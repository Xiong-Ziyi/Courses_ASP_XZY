{
 "cells": [
  {
   "cell_type": "markdown",
   "id": "1b1b1344-883d-4cac-ad08-4210143317dd",
   "metadata": {},
   "source": [
    "<center>\n",
    "    \n",
    "# Seminar 02\n",
    "## (flow control, data types, functions)\n",
    "<img src=\"https://upload.wikimedia.org/wikipedia/commons/c/c3/Python-logo-notext.svg\"/>"
   ]
  },
  {
   "cell_type": "markdown",
   "id": "0542c9b0-8d48-4457-ac3b-3837943f0ff5",
   "metadata": {},
   "source": [
    "## Flow Comtrol: If-Conditions\n",
    "<img src=\"https://upload.wikimedia.org/wikipedia/commons/thumb/4/4d/IF-THEN-ELSE-END_flowchart.svg/440px-IF-THEN-ELSE-END_flowchart.svg.png\" width=\"150\"/> : picture sourse: wikipedia"
   ]
  },
  {
   "cell_type": "code",
   "execution_count": 51,
   "id": "72da7678-e804-4c51-ac1f-d1cd22e93e13",
   "metadata": {},
   "outputs": [
    {
     "name": "stdout",
     "output_type": "stream",
     "text": [
      "The second condition is True!\n"
     ]
    }
   ],
   "source": [
    "first_condition = False\n",
    "second_condition = True\n",
    "third_condition = True\n",
    "\n",
    "if first_condition:\n",
    "    print('The first condition is True!')\n",
    "elif second_condition:\n",
    "    print('The second condition is True!')\n",
    "elif third_condition:\n",
    "    print('The third condition is True!')\n",
    "else:\n",
    "    print('All conditions are False')"
   ]
  },
  {
   "attachments": {},
   "cell_type": "markdown",
   "id": "9f47c4dd-47ea-428e-8682-73a13b0f3e17",
   "metadata": {},
   "source": [
    "## <center> Comparison operators:\n",
    "| Operator | Description |\n",
    "|---|---|\n",
    "| _x_ __==__ _y_ | True if _x_ and _y_ are equal |\r",
    "| _x_ __!=__ _y_ | True if _x_ and _y_ are not equal |\r",
    "| __<, >__ | strictly greater than, strictly lower than |\r",
    "| __<=, >=__ | less than or equal, greater than or equal |\r",
    "| __is, is not__ | object identity, negated object identity | \r",
    "| _x_ __in__ _y_ | True if _x_ is a part of the sequence (string, list, etc.) _y_ |\r",
    "| _x_ __not in__ _y_ | True if _x_ is not a part of the _y_ |"
   ]
  },
  {
   "cell_type": "code",
   "execution_count": 13,
   "id": "0f8e5a00-9f8d-47fd-8708-597ce7a2aea2",
   "metadata": {},
   "outputs": [
    {
     "data": {
      "text/plain": [
       "True"
      ]
     },
     "execution_count": 13,
     "metadata": {},
     "output_type": "execute_result"
    }
   ],
   "source": [
    "None is None"
   ]
  },
  {
   "cell_type": "markdown",
   "id": "bce60176-7785-4b58-b1d1-e72162a9309a",
   "metadata": {},
   "source": [
    "## <center> Boolean operators:\n",
    "| Operator | Description |\n",
    "|-|-|\n",
    "| _x_ __and__ _y_ | True if both _x_ and _y_ are True. False otherwise. |\n",
    "| _x_ __or__ _y_ | True if either _x_ or _y_ or both of them are True. False if both x and y are False. |\n",
    "| __not__ _x_ | negates _x_ |"
   ]
  },
  {
   "cell_type": "code",
   "execution_count": 18,
   "id": "acc61255-2a63-4b1f-a748-3ba85bfaaae6",
   "metadata": {},
   "outputs": [
    {
     "name": "stdin",
     "output_type": "stream",
     "text": [
      " 10\n"
     ]
    },
    {
     "data": {
      "text/plain": [
       "True"
      ]
     },
     "execution_count": 18,
     "metadata": {},
     "output_type": "execute_result"
    }
   ],
   "source": [
    "x = int(input())\n",
    "x != 0 and x > -1"
   ]
  },
  {
   "cell_type": "markdown",
   "id": "83b0849e-64fc-4fcb-97b4-c28449f3894e",
   "metadata": {},
   "source": [
    "## Exercise\n",
    "Write a program that takes an integer as input and prints out the remainder of its division by 3 if it is not a multiple of 3 and the result of the division by 3 if it is a multiple of 3."
   ]
  },
  {
   "cell_type": "code",
   "execution_count": 19,
   "id": "ddf2c828-39ba-4a85-be69-ec0a3ac8c9d7",
   "metadata": {},
   "outputs": [
    {
     "name": "stdin",
     "output_type": "stream",
     "text": [
      "please input an integer number: 3\n"
     ]
    },
    {
     "name": "stdout",
     "output_type": "stream",
     "text": [
      "1\n"
     ]
    }
   ],
   "source": [
    "num = int(input('please input an integer number:'))\n",
    "remainder = num % 3\n",
    "if remainder:\n",
    "    print(remainder)\n",
    "else:\n",
    "    print(num // 3)"
   ]
  },
  {
   "cell_type": "code",
   "execution_count": 23,
   "id": "49bce52c-fefa-4653-80b3-e410b5777373",
   "metadata": {},
   "outputs": [
    {
     "data": {
      "text/plain": [
       "1"
      ]
     },
     "execution_count": 23,
     "metadata": {},
     "output_type": "execute_result"
    }
   ],
   "source": [
    "7 % 3"
   ]
  },
  {
   "cell_type": "code",
   "execution_count": 1,
   "id": "2dcd2488-546b-41ce-9fe2-e1da587f8d08",
   "metadata": {},
   "outputs": [
    {
     "data": {
      "text/plain": [
       "13"
      ]
     },
     "execution_count": 1,
     "metadata": {},
     "output_type": "execute_result"
    }
   ],
   "source": [
    "int(13)"
   ]
  },
  {
   "attachments": {},
   "cell_type": "markdown",
   "id": "5510f577-ec2a-419d-9357-0372fef3ad77",
   "metadata": {},
   "source": [
    "# Compound data types and loops\n",
    "With compound data types, a bundle of information can be saved together in different ways.\n",
    "## List\n",
    "ordered, mutable, allows duplicate"
   ]
  },
  {
   "cell_type": "code",
   "execution_count": 3,
   "id": "4ff568a9-3873-4df7-83c1-a9db5b3147ee",
   "metadata": {},
   "outputs": [
    {
     "name": "stdout",
     "output_type": "stream",
     "text": [
      "<class 'list'>\n",
      "1\n"
     ]
    }
   ],
   "source": [
    "l = [1, 'hello', 3.0, True]\n",
    "print(type(l))\n",
    "print(l[0])"
   ]
  },
  {
   "cell_type": "code",
   "execution_count": 4,
   "id": "2d35d2c9-a969-460a-8db5-30408a70d329",
   "metadata": {},
   "outputs": [
    {
     "name": "stdout",
     "output_type": "stream",
     "text": [
      "['hello', 3.0, False, 25]\n"
     ]
    }
   ],
   "source": [
    "l[3] = False\n",
    "l.append(25)\n",
    "del l[0]\n",
    "print(l)"
   ]
  },
  {
   "cell_type": "code",
   "execution_count": 7,
   "id": "efd37a82-5994-4dfb-b551-361da34251f7",
   "metadata": {},
   "outputs": [
    {
     "data": {
      "text/plain": [
       "['hello',\n",
       " 3.0,\n",
       " False,\n",
       " 25,\n",
       " (4+1j),\n",
       " '2020',\n",
       " 3.14,\n",
       " [(4+1j), '2020', 3.14],\n",
       " (4+1j),\n",
       " '2020',\n",
       " 3.14]"
      ]
     },
     "execution_count": 7,
     "metadata": {},
     "output_type": "execute_result"
    }
   ],
   "source": [
    "l.extend([4+1j, '2020', 3.14])\n",
    "l"
   ]
  },
  {
   "cell_type": "code",
   "execution_count": 11,
   "id": "155d9169-6dea-46e8-9509-848ba6d6d921",
   "metadata": {},
   "outputs": [
    {
     "name": "stdout",
     "output_type": "stream",
     "text": [
      "[1, 2, 3, 4, 5, 6]\n",
      "The total number if elements is 6\n",
      "The minimum value is            1\n",
      "The maximum value is            6\n",
      "The sum of elements is          21\n"
     ]
    }
   ],
   "source": [
    "l = [4, 3, 5, 6, 2, 1]\n",
    "l.sort()\n",
    "print(l)\n",
    "print(f'The total number if elements is {len(l)}')\n",
    "print(f'The minimum value is            {min(l)}')\n",
    "print(f'The maximum value is            {max(l)}')\n",
    "print(f'The sum of elements is          {sum(l)}')"
   ]
  },
  {
   "cell_type": "code",
   "execution_count": 13,
   "id": "c09d0f95-9a3b-4aaf-822a-62f38237ccf2",
   "metadata": {},
   "outputs": [
    {
     "data": {
      "text/plain": [
       "[2, 4]"
      ]
     },
     "execution_count": 13,
     "metadata": {},
     "output_type": "execute_result"
    }
   ],
   "source": [
    "l[1:4:2] "
   ]
  },
  {
   "cell_type": "code",
   "execution_count": 15,
   "id": "538ab22f-5243-48f4-97a0-42b4b8482f6f",
   "metadata": {},
   "outputs": [
    {
     "data": {
      "text/plain": [
       "[3, 4, 5, 6]"
      ]
     },
     "execution_count": 15,
     "metadata": {},
     "output_type": "execute_result"
    }
   ],
   "source": [
    "l[2:]"
   ]
  },
  {
   "cell_type": "code",
   "execution_count": 19,
   "id": "8943c59e-1378-4447-aa42-5f6daad19a66",
   "metadata": {},
   "outputs": [
    {
     "data": {
      "text/plain": [
       "[5, 6]"
      ]
     },
     "execution_count": 19,
     "metadata": {},
     "output_type": "execute_result"
    }
   ],
   "source": [
    "l[-2:]"
   ]
  },
  {
   "cell_type": "code",
   "execution_count": 20,
   "id": "97547677-4500-47fc-b86d-84fdb1f7b143",
   "metadata": {},
   "outputs": [
    {
     "name": "stdout",
     "output_type": "stream",
     "text": [
      "3\n",
      "5\n"
     ]
    }
   ],
   "source": [
    "M = [[1,2,3],\n",
    "     [4,5,6],\n",
    "     [7,8,9]]       #Nested list of 3 lists\n",
    "print(len(M))       #Length of the list\n",
    "print(M[1][1])"
   ]
  },
  {
   "cell_type": "code",
   "execution_count": 21,
   "id": "787703a1-9719-44a3-a842-25f28822d202",
   "metadata": {},
   "outputs": [
    {
     "name": "stdout",
     "output_type": "stream",
     "text": [
      "[[1, 2, 3], [4, 5, 6], [7, 8, 9], 1, 2, 3, 4, 5, 6]\n"
     ]
    }
   ],
   "source": [
    "print(M + l)"
   ]
  },
  {
   "cell_type": "markdown",
   "id": "62bdf4e1-ed2f-46ee-8a6c-7a2739139822",
   "metadata": {},
   "source": [
    "# Exercise\n",
    "Write a program that lets a user put in 5 numbers and prints out the median, i.e. the number in the\n",
    "middle."
   ]
  },
  {
   "cell_type": "code",
   "execution_count": 23,
   "id": "0f74fdae-24c2-422d-9936-131827f2c195",
   "metadata": {},
   "outputs": [
    {
     "name": "stdin",
     "output_type": "stream",
     "text": [
      "please input the number:  1\n",
      "please input the number:  3\n",
      "please input the number:  5\n",
      "please input the number:  2\n",
      "please input the number:  4\n"
     ]
    },
    {
     "name": "stdout",
     "output_type": "stream",
     "text": [
      "3.0\n"
     ]
    }
   ],
   "source": [
    "x = list()\n",
    "x.append(float(input('please input the number: ')))\n",
    "x.append(float(input('please input the number: ')))\n",
    "x.append(float(input('please input the number: ')))\n",
    "x.append(float(input('please input the number: ')))\n",
    "x.append(float(input('please input the number: ')))\n",
    "x.sort()\n",
    "print(x[2])"
   ]
  },
  {
   "cell_type": "markdown",
   "id": "de379ce9-55ab-4279-8065-e2b4d6400762",
   "metadata": {},
   "source": [
    "# Tuples\n",
    "ordered, __immutable__, allows duplicate"
   ]
  },
  {
   "cell_type": "code",
   "execution_count": 26,
   "id": "8d51865c-b917-47b8-b630-f447c2af026e",
   "metadata": {},
   "outputs": [
    {
     "name": "stdout",
     "output_type": "stream",
     "text": [
      "2\n"
     ]
    }
   ],
   "source": [
    "t = (1, 2, 3, 4)\n",
    "print(t[1])"
   ]
  },
  {
   "cell_type": "code",
   "execution_count": 29,
   "id": "b6246d42-b1de-4f17-bae1-ea2566d1db85",
   "metadata": {},
   "outputs": [
    {
     "data": {
      "text/plain": [
       "(4, 3, 2, 1)"
      ]
     },
     "execution_count": 29,
     "metadata": {},
     "output_type": "execute_result"
    }
   ],
   "source": [
    "tuple(sorted(t, reverse=True))"
   ]
  },
  {
   "cell_type": "code",
   "execution_count": 53,
   "id": "09d025f4-a750-4abb-be74-4fddd6bfe5cd",
   "metadata": {},
   "outputs": [
    {
     "ename": "TypeError",
     "evalue": "'tuple' object does not support item assignment",
     "output_type": "error",
     "traceback": [
      "\u001b[0;31m---------------------------------------------------------------------------\u001b[0m",
      "\u001b[0;31mTypeError\u001b[0m                                 Traceback (most recent call last)",
      "Cell \u001b[0;32mIn[53], line 1\u001b[0m\n\u001b[0;32m----> 1\u001b[0m t[\u001b[38;5;241m1\u001b[39m] \u001b[38;5;241m=\u001b[39m \u001b[38;5;241m-\u001b[39m\u001b[38;5;241m2\u001b[39m\n",
      "\u001b[0;31mTypeError\u001b[0m: 'tuple' object does not support item assignment"
     ]
    }
   ],
   "source": [
    "t[1] = -2"
   ]
  },
  {
   "cell_type": "code",
   "execution_count": 31,
   "id": "4ee545a8-1fba-4047-a693-25b899f50681",
   "metadata": {},
   "outputs": [
    {
     "name": "stdout",
     "output_type": "stream",
     "text": [
      "(1, 2, 3, 4, 5, 6)\n"
     ]
    }
   ],
   "source": [
    "print(t + (5,6))"
   ]
  },
  {
   "cell_type": "markdown",
   "id": "dc02f0f8-de3b-4fb5-9691-d47014f94f17",
   "metadata": {},
   "source": [
    "# Dictionary\n",
    "(un)__ordered__, mutable, Does not allow duplicate"
   ]
  },
  {
   "cell_type": "code",
   "execution_count": 32,
   "id": "035e8f5d-aaea-4905-97ef-c0fd3804c191",
   "metadata": {},
   "outputs": [
    {
     "name": "stdout",
     "output_type": "stream",
     "text": [
      "apple\n",
      "{'name': 'banana', 'quantity': 3, 'unit_price': 2.0, 'color': 'green'}\n"
     ]
    }
   ],
   "source": [
    "product = {'name': 'apple', 'quantity': 3, 'unit_price':2.0}\n",
    "print(product['name'])\n",
    "product['color'] = 'green'\n",
    "product['name'] = 'banana'\n",
    "print(product)"
   ]
  },
  {
   "cell_type": "code",
   "execution_count": 33,
   "id": "54482cc2-b24f-4e23-b68e-00bc77c5a7a4",
   "metadata": {},
   "outputs": [
    {
     "name": "stdout",
     "output_type": "stream",
     "text": [
      "{'name': 'apple', 'unit_price': 2.0}\n",
      "{'quantity': 3, 'name': 'apple', 'unit_price': 2.0}\n"
     ]
    }
   ],
   "source": [
    "apple = dict(name='apple', unit_price=2.0)\n",
    "print(apple)\n",
    "product = dict(quantity=3, **apple) # **apple is name='apple', unit_price=2.0\n",
    "print(product)"
   ]
  },
  {
   "cell_type": "code",
   "execution_count": 36,
   "id": "31dbd471-e161-45fc-b3c6-a27b3f8bdbd2",
   "metadata": {},
   "outputs": [
    {
     "name": "stdout",
     "output_type": "stream",
     "text": [
      "quantity, name, unit_price\n",
      "dict_values([3, 'apple', 2.0])\n",
      "dict_items([('quantity', 3), ('name', 'apple'), ('unit_price', 2.0)])\n"
     ]
    }
   ],
   "source": [
    "print(*list(product.keys()), sep=', ')\n",
    "print(product.values())\n",
    "print(product.items())"
   ]
  },
  {
   "cell_type": "code",
   "execution_count": 40,
   "id": "864c8bd4-41e7-43d6-9c5d-ec29604d389c",
   "metadata": {},
   "outputs": [
    {
     "name": "stdout",
     "output_type": "stream",
     "text": [
      "12, 1313, hello\n"
     ]
    }
   ],
   "source": [
    "print(*[12, 1313, 'hello'], sep=', ') # *[12, 1313, 'hello'] = 12, 1313, 'hello'"
   ]
  },
  {
   "cell_type": "markdown",
   "id": "0a559780-31c7-4e05-b468-257ea6f672e9",
   "metadata": {},
   "source": [
    "# Set\n",
    "__unordered__, mutable, Does not allows duplicate"
   ]
  },
  {
   "cell_type": "code",
   "execution_count": 41,
   "id": "abbe7809-bc4f-44da-a940-e9424e47a945",
   "metadata": {},
   "outputs": [
    {
     "name": "stdout",
     "output_type": "stream",
     "text": [
      "4\n",
      "{'apple', 'pear', 'banana', 'orange'}\n"
     ]
    }
   ],
   "source": [
    "basket = {'apple', 'banana', 'orange', 'pear', 'orange'}\n",
    "print(len(basket))\n",
    "print(basket)"
   ]
  },
  {
   "cell_type": "code",
   "execution_count": 45,
   "id": "6f507523-2856-445a-b93c-d836761a7605",
   "metadata": {},
   "outputs": [
    {
     "name": "stdout",
     "output_type": "stream",
     "text": [
      "<class 'dict'> <class 'set'>\n"
     ]
    }
   ],
   "source": [
    "s = set()\n",
    "d = {}\n",
    "print(type(d), type(s))"
   ]
  },
  {
   "cell_type": "code",
   "execution_count": 46,
   "id": "5ae223fa-978e-4e1b-8199-23e37f3102ae",
   "metadata": {},
   "outputs": [
    {
     "name": "stdout",
     "output_type": "stream",
     "text": [
      "{'Frank', 'Gans', 'Maria', 'Julia', 'Martin', 'Sven'}\n",
      "{'Martin', 'Maria', 'Sven'}\n",
      "{'John', 'Sven', 'Frank', 'Gans', 'Maria', 'Julia', 'Anna', 'Martin', 'Alex', 'Thomas'}\n",
      "{'Alex', 'John', 'Anna', 'Thomas'}\n"
     ]
    }
   ],
   "source": [
    "SeminarGroupA = {'Thomas', 'Anna', 'Alex', 'Martin', 'Maria', 'John', 'Sven'}\n",
    "SeminarGroupB = set(['Gans', 'Maria', 'Frank', 'Sven', 'Martin', 'Julia'])\n",
    "print(SeminarGroupB)\n",
    "print(SeminarGroupA & SeminarGroupB)    # Intersection\n",
    "print(SeminarGroupA | SeminarGroupB)    # Union\n",
    "print(SeminarGroupA - SeminarGroupB)    # Difference"
   ]
  },
  {
   "attachments": {
    "1e827b59-a58f-49cc-9267-b30cf4f7be10.png": {
     "image/png": "[encoded data removed]"
    }
   },
   "cell_type": "markdown",
   "id": "6613a02f-e6ff-407f-b529-07525fce2b3b",
   "metadata": {},
   "source": [
    "# Loop\n",
    "![image.png](attachment:1e827b59-a58f-49cc-9267-b30cf4f7be10.png)"
   ]
  },
  {
   "cell_type": "markdown",
   "id": "38ecdbe3-4708-4909-ae1e-2cf4ada59033",
   "metadata": {},
   "source": [
    "# While Loop\n",
    "The while statement repeats the following __indented__ block as long as the condition in the while statement evaluates to True. Therefore you _always_ have to modify the variables in the loop condition in the loop itself"
   ]
  },
  {
   "cell_type": "code",
   "execution_count": 47,
   "id": "b2cb7dec-50f3-4b3b-93cf-2022682e1d17",
   "metadata": {},
   "outputs": [
    {
     "name": "stdout",
     "output_type": "stream",
     "text": [
      "1\n",
      "2\n",
      "3\n"
     ]
    }
   ],
   "source": [
    "x = 1\n",
    "while (x <= 3):\n",
    "    print(x)\n",
    "    x = x + 1"
   ]
  },
  {
   "cell_type": "code",
   "execution_count": 75,
   "id": "c9b44bd2-5f6d-4e35-a17f-1fb9b6fef35e",
   "metadata": {},
   "outputs": [
    {
     "name": "stdout",
     "output_type": "stream",
     "text": [
      "python\n",
      "ython\n",
      "thon\n",
      "hon\n",
      "on\n",
      "n\n"
     ]
    }
   ],
   "source": [
    "x = 'python'\n",
    "while x:\n",
    "    print(x)\n",
    "    x = x[1:]"
   ]
  },
  {
   "cell_type": "code",
   "execution_count": 48,
   "id": "57e95c1a-7906-4378-a94f-433a74195da1",
   "metadata": {},
   "outputs": [
    {
     "name": "stdin",
     "output_type": "stream",
     "text": [
      "Enter text:  end\n",
      "Enter text:  quit\n",
      "Enter text:  please!\n",
      "Enter text:  stop\n"
     ]
    },
    {
     "name": "stdout",
     "output_type": "stream",
     "text": [
      "['end', 'quit', 'please!']\n"
     ]
    }
   ],
   "source": [
    "input_list = []\n",
    "while True:\n",
    "    reply = input('Enter text: ')\n",
    "    if reply == 'stop': \n",
    "        break\n",
    "    input_list.append(reply)\n",
    "print(input_list)"
   ]
  },
  {
   "cell_type": "code",
   "execution_count": 52,
   "id": "59d4d555-43ee-466c-9126-67783074cdce",
   "metadata": {},
   "outputs": [
    {
     "name": "stdout",
     "output_type": "stream",
     "text": [
      "8\n",
      "6\n",
      "4\n",
      "2\n",
      "0\n"
     ]
    }
   ],
   "source": [
    "x = 10\n",
    "while x>0:\n",
    "    x -= 1\n",
    "    if x%2 != 0: \n",
    "        continue\n",
    "    print(x)"
   ]
  },
  {
   "cell_type": "markdown",
   "id": "1c6c6ae9-e986-40cc-bb7e-1f790cece261",
   "metadata": {},
   "source": [
    "$2^4$:"
   ]
  },
  {
   "cell_type": "code",
   "execution_count": null,
   "id": "c7c3266c-cf32-43f6-bcc1-b1eb4415693a",
   "metadata": {},
   "outputs": [],
   "source": [
    "2 ** 4"
   ]
  },
  {
   "cell_type": "markdown",
   "id": "c2737ada-9c81-4e7b-8dc8-03c19b456149",
   "metadata": {},
   "source": [
    "# Exercise\n",
    "Write a program that lets user input a number and prints out all numbers from 1 to the entered value which are powers of two"
   ]
  },
  {
   "cell_type": "code",
   "execution_count": 54,
   "id": "b6ecbe76-ce48-4e0f-bcb8-704c28bf600d",
   "metadata": {},
   "outputs": [
    {
     "name": "stdin",
     "output_type": "stream",
     "text": [
      "please input the number:  8\n"
     ]
    },
    {
     "name": "stdout",
     "output_type": "stream",
     "text": [
      "1\n",
      "2\n",
      "4\n",
      "8\n"
     ]
    }
   ],
   "source": [
    "x = 1\n",
    "y = int(input('please input the number: '))\n",
    "while (x <= y):\n",
    "    print(x)\n",
    "    x *= 2 "
   ]
  },
  {
   "cell_type": "markdown",
   "id": "a7c62b56-74be-4b62-8158-ff6399b501cd",
   "metadata": {},
   "source": [
    "# For Loop\n",
    "In the for-loop you have to explicitly specify a range of values that the loop iterates over. This is more expressive and you can avoid mistakes that result in infinite loops"
   ]
  },
  {
   "cell_type": "code",
   "execution_count": 56,
   "id": "a38cdf90-2ad3-44d1-b9b6-a27773c480bb",
   "metadata": {},
   "outputs": [
    {
     "name": "stdout",
     "output_type": "stream",
     "text": [
      "0\n",
      "1\n",
      "2\n",
      "4\n",
      "5\n",
      "end\n"
     ]
    }
   ],
   "source": [
    "for x in [0, 1, 2, 4, 5]:\n",
    "    print(x)\n",
    "print('end')"
   ]
  },
  {
   "cell_type": "code",
   "execution_count": 57,
   "id": "b88ceb20-3a39-49db-a4c1-1ab6065d36fd",
   "metadata": {},
   "outputs": [
    {
     "name": "stdout",
     "output_type": "stream",
     "text": [
      "0\n",
      "1\n",
      "2\n",
      "3\n",
      "4\n",
      "5\n"
     ]
    }
   ],
   "source": [
    "for x in range(6):\n",
    "    print(x)"
   ]
  },
  {
   "cell_type": "code",
   "execution_count": 59,
   "id": "41739d55-d2c2-4b8b-b021-6de831c152b5",
   "metadata": {},
   "outputs": [
    {
     "name": "stdout",
     "output_type": "stream",
     "text": [
      "1 3 5 7 9\n"
     ]
    }
   ],
   "source": [
    "print(*range(1,10,2))"
   ]
  },
  {
   "cell_type": "markdown",
   "id": "3fc00e6e-01c0-4d48-91de-32b1c8e14d85",
   "metadata": {
    "jp-MarkdownHeadingCollapsed": true
   },
   "source": [
    "## Exercise\n",
    "Write a for-loop which calculates the following sum for a user specified number N:\n",
    "<center>$\\displaystyle\\sum^N_{n=0}\\sum^n_{m=0}m^2$\n",
    "\n",
    "Hint: You can check the correct operation by comparing with the analytical result which is\n",
    "<center> $\\displaystyle\\frac{1}{12}N(N+1)^2(N+2)$"
   ]
  },
  {
   "cell_type": "code",
   "execution_count": 6,
   "id": "76ce8eed-c927-4491-bc62-8d3a0ba724d8",
   "metadata": {},
   "outputs": [
    {
     "name": "stdin",
     "output_type": "stream",
     "text": [
      " 10\n"
     ]
    },
    {
     "name": "stdout",
     "output_type": "stream",
     "text": [
      "1210, 1210.0\n"
     ]
    }
   ],
   "source": [
    "res = 0\n",
    "N = int(input())\n",
    "for n in range(N+1):\n",
    "    for m in range(n+1):\n",
    "        res += m ** 2\n",
    "an_res = N * (N + 1)**2 * (N + 2) / 12\n",
    "print(res, an_res, sep=', ')"
   ]
  },
  {
   "cell_type": "code",
   "execution_count": 3,
   "id": "cf41e76f-6a9a-4099-abb0-2f70299a2b89",
   "metadata": {},
   "outputs": [
    {
     "name": "stdin",
     "output_type": "stream",
     "text": [
      " 10\n"
     ]
    },
    {
     "name": "stdout",
     "output_type": "stream",
     "text": [
      "1210\n"
     ]
    }
   ],
   "source": [
    "res = 0\n",
    "for n in range(int(input())+1):\n",
    "    res += sum(m ** 2 for m in range(n+1))\n",
    "print(res)"
   ]
  },
  {
   "cell_type": "markdown",
   "id": "f9d91869-3634-479c-914b-83d7ece31b85",
   "metadata": {},
   "source": [
    "## Functions and modules\n",
    "Define functions and importing them"
   ]
  },
  {
   "cell_type": "code",
   "execution_count": 60,
   "id": "48051c10-98df-43c6-b8f4-5e34c8d12c9e",
   "metadata": {},
   "outputs": [
    {
     "name": "stdout",
     "output_type": "stream",
     "text": [
      "6\n"
     ]
    }
   ],
   "source": [
    "def add_func(x1, x2):\n",
    "    result = x1 + x2\n",
    "    return result\n",
    "\n",
    "print(add_func(1, 5))"
   ]
  },
  {
   "cell_type": "code",
   "execution_count": 2,
   "id": "964de4fe-c0a6-4566-ba0c-64f39167cc4c",
   "metadata": {},
   "outputs": [
    {
     "name": "stdout",
     "output_type": "stream",
     "text": [
      "['o', 't', 'o', 'n', 'i', 'c', 's']\n"
     ]
    }
   ],
   "source": [
    "def intersect(seq1, seq2):\n",
    "    res = []\n",
    "    for x in seq1:\n",
    "        if x in seq2:\n",
    "            res.append(x)\n",
    "    return res\n",
    "\n",
    "print( intersect('photonics', 'electronics') )"
   ]
  },
  {
   "cell_type": "markdown",
   "id": "04c2930f-73e0-4427-b4bf-a1eec01720dd",
   "metadata": {},
   "source": [
    "Default arguments"
   ]
  },
  {
   "cell_type": "code",
   "execution_count": 61,
   "id": "6f973edb-49e1-441d-84cf-6fd45d65f515",
   "metadata": {},
   "outputs": [
    {
     "name": "stdout",
     "output_type": "stream",
     "text": [
      "3\n",
      "-1\n",
      "3.0\n",
      "3.0\n",
      "None\n"
     ]
    }
   ],
   "source": [
    "def operate(x1, x2, method='add', output='int'):\n",
    "    if method == 'add':\n",
    "        res = x1 + x2\n",
    "    elif method == 'subtract':\n",
    "        res = x1 - x2\n",
    "    if output == 'int':\n",
    "        return int(res)\n",
    "    elif output == 'float': \n",
    "        return float(res)\n",
    "\n",
    "print(operate(1, 2))\n",
    "print(operate(1, 2, 'subtract'))\n",
    "print(operate(1, 2, 'add', 'float'))\n",
    "print(operate(1, 2, output='float'))\n",
    "print(operate(1, 2, output='list'))"
   ]
  },
  {
   "cell_type": "markdown",
   "id": "c59dae1f-8c7a-462c-b668-030b6441084f",
   "metadata": {},
   "source": [
    "### Adding arbitrary numbers of Arguments"
   ]
  },
  {
   "cell_type": "code",
   "execution_count": 63,
   "id": "9bcdf7f4-5acb-4b5c-b67e-2e3a98f8294d",
   "metadata": {},
   "outputs": [
    {
     "name": "stdout",
     "output_type": "stream",
     "text": [
      "20\n"
     ]
    }
   ],
   "source": [
    "def summer(*args):\n",
    "    result = 0\n",
    "    for arg in args:\n",
    "        result += arg\n",
    "    return result\n",
    "\n",
    "print(summer(12, 1, 2, 4, 1))"
   ]
  },
  {
   "cell_type": "code",
   "execution_count": 64,
   "id": "8e7dac87-12cf-42e2-a16f-b8d4a8598348",
   "metadata": {},
   "outputs": [
    {
     "name": "stdout",
     "output_type": "stream",
     "text": [
      "15\n"
     ]
    }
   ],
   "source": [
    "# Defining functions as variables\n",
    "f = summer\n",
    "print(f(12, 1, 2))"
   ]
  },
  {
   "cell_type": "code",
   "execution_count": 65,
   "id": "9976c43c-86d1-4608-b43f-ea3be01b4359",
   "metadata": {},
   "outputs": [
    {
     "name": "stdout",
     "output_type": "stream",
     "text": [
      "8\n"
     ]
    }
   ],
   "source": [
    "# lambda-functions:\n",
    "cubes = lambda x: x ** 3\n",
    "#def cubes(x):\n",
    "#    return x ** 3\n",
    "print(cubes(2))"
   ]
  },
  {
   "cell_type": "markdown",
   "id": "10938653-5922-41fa-b0b6-6e7c7107f6fa",
   "metadata": {},
   "source": [
    "## Modules and Packages"
   ]
  },
  {
   "cell_type": "code",
   "execution_count": 66,
   "id": "a2e9f35f-b0e6-4a1d-99aa-d93f606f2a03",
   "metadata": {},
   "outputs": [
    {
     "data": {
      "text/plain": [
       "4"
      ]
     },
     "execution_count": 66,
     "metadata": {},
     "output_type": "execute_result"
    }
   ],
   "source": [
    "import additional_script_for_seminar_2\n",
    "\n",
    "additional_script_for_seminar_2.power(2, 2)"
   ]
  },
  {
   "cell_type": "code",
   "execution_count": 67,
   "id": "ee2192d9-cc49-40a2-8aec-6d8ffe19ec55",
   "metadata": {},
   "outputs": [
    {
     "data": {
      "text/plain": [
       "9"
      ]
     },
     "execution_count": 67,
     "metadata": {},
     "output_type": "execute_result"
    }
   ],
   "source": [
    "import additional_script_for_seminar_2 as script2\n",
    "\n",
    "script2.power(3, 2)"
   ]
  },
  {
   "cell_type": "code",
   "execution_count": 68,
   "id": "48ce8bf4-cf7c-4ce0-adc3-48f21f4e453e",
   "metadata": {},
   "outputs": [
    {
     "name": "stdout",
     "output_type": "stream",
     "text": [
      "27\n",
      "13\n"
     ]
    }
   ],
   "source": [
    "from additional_script_for_seminar_2 import power, add\n",
    "\n",
    "print(power(3, 3))\n",
    "print(add(5, 8))"
   ]
  },
  {
   "cell_type": "code",
   "execution_count": 69,
   "id": "a324d19e-2b4e-4f42-9064-f51510456958",
   "metadata": {},
   "outputs": [
    {
     "name": "stdout",
     "output_type": "stream",
     "text": [
      "1.0\n",
      "3628800\n"
     ]
    }
   ],
   "source": [
    "from math import sin, pi, factorial\n",
    "print(sin(pi/2))\n",
    "print(factorial(10))"
   ]
  },
  {
   "cell_type": "markdown",
   "id": "82780d89-aac2-4128-be11-ed62c4a6ef3a",
   "metadata": {},
   "source": [
    "## Exercise\n",
    "Write a function that returns an approximation to sin(_x_) by using _N_ terms of the Taylor expansion. _x_ and _N_ should be function arguments. The Taylor expansion in 0 is\n",
    "\n",
    "<center>$\\displaystyle\\sin(x)\\approx\\sum_{n=0}^N\\frac{(-1)^n}{(2n+1)!}x^{2n+1}$"
   ]
  },
  {
   "cell_type": "code",
   "execution_count": 39,
   "id": "75e56bc0-2fe2-4bf7-9888-dccf8752cae9",
   "metadata": {},
   "outputs": [
    {
     "name": "stdout",
     "output_type": "stream",
     "text": [
      "N = 0 -> sin() ≈ 1.5707963267948966\n",
      "N = 1 -> sin() ≈ 0.9248322292886504\n",
      "N = 2 -> sin() ≈ 1.0045248555348174\n",
      "N = 3 -> sin() ≈ 0.9998431013994987\n",
      "N = 4 -> sin() ≈ 1.0000035425842861\n",
      "N = 5 -> sin() ≈ 0.999999943741051\n",
      "N = 6 -> sin() ≈ 1.0000000006627803\n",
      "N = 7 -> sin() ≈ 0.9999999999939768\n",
      "N = 8 -> sin() ≈ 1.0000000000000437\n",
      "N = 9 -> sin() ≈ 1.0\n"
     ]
    }
   ],
   "source": [
    "def appsin(x, N):\n",
    "    from math import factorial\n",
    "    return sum((-1)**n / factorial(2*n + 1) * x**(2*n + 1) for n in range(N+1))\n",
    "\n",
    "for N in range(10):\n",
    "    print(f'N = {N} -> sin() ≈ {appsin(pi/2, N)}')"
   ]
  },
  {
   "cell_type": "markdown",
   "id": "30f11626-d1a4-447d-8444-e69cfbc09f5d",
   "metadata": {},
   "source": [
    "## Object oriented programming"
   ]
  },
  {
   "cell_type": "code",
   "execution_count": 40,
   "id": "fa5ed78a-919b-491e-be13-9d9e373d0e20",
   "metadata": {},
   "outputs": [
    {
     "data": {
      "text/plain": [
       "'John Taylor'"
      ]
     },
     "execution_count": 40,
     "metadata": {},
     "output_type": "execute_result"
    }
   ],
   "source": [
    "class Student:\n",
    "    def __init__(self, name, surname, faculty):\n",
    "        self.name = name\n",
    "        self.surname = surname\n",
    "        self.faculty = faculty\n",
    "    def fullname(self):\n",
    "        return self.surname + ' ' + self.name\n",
    "\n",
    "student = Student('Taylor', 'John', 'Physics')\n",
    "student.fullname()"
   ]
  },
  {
   "cell_type": "code",
   "execution_count": 42,
   "id": "28da69d3-8a75-43d6-92ce-1a53845b9871",
   "metadata": {},
   "outputs": [
    {
     "data": {
      "text/plain": [
       "'John Taylor'"
      ]
     },
     "execution_count": 42,
     "metadata": {},
     "output_type": "execute_result"
    }
   ],
   "source": [
    "class PhysicsStudent(Student):\n",
    "    faculty = 'Physics'\n",
    "    def __init__(self, name, surname):\n",
    "        self.name = name\n",
    "        self.surname = surname\n",
    "\n",
    "student2 = PhysicsStudent('Taylor', 'John')\n",
    "student2.fullname()"
   ]
  },
  {
   "cell_type": "code",
   "execution_count": 9,
   "id": "8c226975-0608-49a8-a78b-85e21b5ec339",
   "metadata": {},
   "outputs": [],
   "source": [
    "class Point2D:\n",
    "    def __init__(self,x,y):\n",
    "        self.x = x\n",
    "        self.y = y\n",
    "        \n",
    "    def dist(self, other):\n",
    "        return ((self.x - other.x)**2 + (self.y-other.y)**2)**0.5\n",
    "    \n",
    "    \n",
    "    \n",
    "class GeoMarker(Point2D):\n",
    "        def __init__(self,x,y,name,color='blue',info=''):\n",
    "            super().__init__(x,y)\n",
    "            self.name = name\n",
    "            self.color = color\n",
    "            self.info= info\n",
    "            \n",
    "        def MarkerInfo(self):\n",
    "            print('GeoMarker: ' + self.name + '; Info = ' + self.info)\n",
    "            \n",
    "#            \n",
    "JT =  GeoMarker(3.11,4,'JenTower',info='Skyscraper in Jena')   \n",
    "JP =  GeoMarker(7.25,-5.87,'Jena Paradies','red','Train station') "
   ]
  },
  {
   "cell_type": "code",
   "execution_count": 12,
   "id": "3a9ce480-18f5-47bb-828c-9dd07e6e4e82",
   "metadata": {},
   "outputs": [
    {
     "name": "stdout",
     "output_type": "stream",
     "text": [
      "<__main__.GeoMarker object at 0x10fbb7290>\n",
      "JenTower\n",
      "blue\n",
      "GeoMarker: JenTower; Info = Skyscraper in Jena\n",
      "10.703107025532354\n"
     ]
    }
   ],
   "source": [
    "print(JT)\n",
    "\n",
    "print(JT.name)\n",
    "print(JT.color)\n",
    "\n",
    "JT.MarkerInfo()\n",
    "\n",
    "print(JT.dist(JP))"
   ]
  },
  {
   "cell_type": "code",
   "execution_count": null,
   "id": "bbc4db87-f2f5-467d-8379-fbd01ae29e31",
   "metadata": {},
   "outputs": [],
   "source": []
  }
 ],
 "metadata": {
  "kernelspec": {
   "display_name": "Python 3 (ipykernel)",
   "language": "python",
   "name": "python3"
  },
  "language_info": {
   "codemirror_mode": {
    "name": "ipython",
    "version": 3
   },
   "file_extension": ".py",
   "mimetype": "text/x-python",
   "name": "python",
   "nbconvert_exporter": "python",
   "pygments_lexer": "ipython3",
   "version": "3.11.8"
  }
 },
 "nbformat": 4,
 "nbformat_minor": 5
}